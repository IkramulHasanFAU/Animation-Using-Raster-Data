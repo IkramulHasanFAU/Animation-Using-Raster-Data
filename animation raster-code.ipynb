{
 "cells": [
  {
   "cell_type": "code",
   "execution_count": 16,
   "id": "eb65b0b6",
   "metadata": {},
   "outputs": [],
   "source": [
    "# importing necessary libraraies \n",
    "import os\n",
    "import imageio\n",
    "import numpy as np \n",
    "import pandas as pd\n",
    "import matplotlib.pyplot as plt\n",
    "import matplotlib.pyplot as mplot \n",
    "import matplotlib\n",
    "import matplotlib.image as mpimg \n",
    "import matplotlib.colors as colors \n",
    "from matplotlib.colors import ListedColormap\n",
    "import rasterio "
   ]
  },
  {
   "cell_type": "code",
   "execution_count": 17,
   "id": "d2a0e92f",
   "metadata": {},
   "outputs": [],
   "source": [
    "# dragging  input data and creating output directories \n",
    "inDir = 'D:/Ikramul Hasan/raster animation/AFM_All_02_21_May_Nov'\n",
    "os.chdir(inDir)\n",
    "outDir = os.path.normpath(os.path.split(inDir)[0]+ os.sep+'animation_wet')+'\\\\'\n",
    "if not os.path.exists(outDir): os.makedirs(outDir)"
   ]
  },
  {
   "cell_type": "code",
   "execution_count": 18,
   "id": "43ec6ee9",
   "metadata": {},
   "outputs": [
    {
     "name": "stdout",
     "output_type": "stream",
     "text": [
      "Processing: 2002\n",
      "Processing: 2003\n",
      "Processing: 2004\n",
      "Processing: 2005\n",
      "Processing: 2006\n",
      "Processing: 2007\n",
      "Processing: 2008\n",
      "Processing: 2009\n",
      "Processing: 2010\n",
      "Processing: 2011\n",
      "Processing: 2012\n",
      "Processing: 2013\n",
      "Processing: 2014\n",
      "Processing: 2015\n",
      "Processing: 2016\n",
      "Processing: 2017\n",
      "Processing: 2018\n",
      "Processing: 2019\n",
      "Processing: 2020\n",
      "Processing: 2021\n"
     ]
    }
   ],
   "source": [
    "# Creating png from tif images \n",
    "\n",
    "fileList = [ file for file in os.listdir() if file.endswith ('.tif')]    # search for .tif files in current directocry \n",
    "for f in fileList:\n",
    "    inundationRaster_file = rasterio.open(f)         #opening inundation raster \n",
    "    inundationRaster = inundationRaster_file.read(1) #reading one by one \n",
    "    \n",
    "    cmap = \"PuBu\"                                    #setting the primary color to display inundation extent \n",
    "    cmap_reversed = matplotlib.cm.get_cmap(\"Greys\")  #reverse color \n",
    "    plt.figure(figsize= (17,15)) #fixing figure size \n",
    "    plt.imshow(inundationRaster,cmap=cmap, vmin = 0, vmax = 1)    #inputing raster with min and max value to visualize \n",
    "    parts = f.split(\"_\")                       #splitng filename by underscore within \n",
    "    fileName = parts[1][:-4]                   #removing four characters in the file name\n",
    "    print ('Processing: {}'.format(fileName))\n",
    "    plt.title('Everglades Inundation Occurence in Wet Season '+ ' ' + fileName, fontsize =28, fontweight ='bold') #adding title\n",
    "    cur_axes =mplot.gca()                         #getting current axis  \n",
    "    cur_axes.axes.get_xaxis().set_visible(False)  #removing x-axis \n",
    "    cur_axes.axes.get_yaxis().set_visible(False)  #removing y-axis \n",
    "    cb = plt.colorbar()                          #plotting colorbar and adjusting subplots params \n",
    "    cb.set_label('Time Series Inundation', size =22)   #labelling and sizing colorbar \n",
    "    plt.tight_layout()    #controlling extra padding \n",
    "    plt.savefig('{}{}_Rainfall_Wet.png'.format(outDir, fileName, dpi=200)) #saving raster as .png format \n",
    "    plt.close()"
   ]
  },
  {
   "cell_type": "code",
   "execution_count": 19,
   "id": "2d2fd961",
   "metadata": {},
   "outputs": [
    {
     "name": "stdout",
     "output_type": "stream",
     "text": [
      "raster animation done!\n"
     ]
    }
   ],
   "source": [
    "# Creating Animation \n",
    "\n",
    "def make_gif (input_folder,save_filepath):\n",
    "    episod_frames = []      #declaring an  empty list \n",
    "    time_per_step = 0.30    #period lenth to animate each raster \n",
    "    for root, _, files in os.walk(input_folder):\n",
    "        file_paths = [os.path.join(root,file) for file in files]\n",
    "        file_paths = sorted (file_paths, key=lambda x: os.path.getmtime(x))\n",
    "        episod_frames = [imageio.imread(file_path)\n",
    "                        for file_path in file_paths if file_path.endswith('.png')] #filling the list with raster and reading the images \n",
    "        episod_frames = np.array (episod_frames)                                   #converting list to a Numpy array \n",
    "        imageio.mimsave(save_filepath, episod_frames, duration = time_per_step)    #truning the png to gif \n",
    "make_gif(outDir,os.path.join(outDir, \"Animation_Rainfall_Wet.gif\"))               #calling back the gif function to create the animation \n",
    "print(\"raster animation done!\")"
   ]
  },
  {
   "cell_type": "code",
   "execution_count": null,
   "id": "c6cfe2d5",
   "metadata": {},
   "outputs": [],
   "source": []
  }
 ],
 "metadata": {
  "kernelspec": {
   "display_name": "Python 3 (ipykernel)",
   "language": "python",
   "name": "python3"
  },
  "language_info": {
   "codemirror_mode": {
    "name": "ipython",
    "version": 3
   },
   "file_extension": ".py",
   "mimetype": "text/x-python",
   "name": "python",
   "nbconvert_exporter": "python",
   "pygments_lexer": "ipython3",
   "version": "3.9.12"
  }
 },
 "nbformat": 4,
 "nbformat_minor": 5
}
